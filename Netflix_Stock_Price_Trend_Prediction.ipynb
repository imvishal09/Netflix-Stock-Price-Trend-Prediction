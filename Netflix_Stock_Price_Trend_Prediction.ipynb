{
  "nbformat": 4,
  "nbformat_minor": 0,
  "metadata": {
    "colab": {
      "name": "Netflix Stock Price Trend Prediction",
      "provenance": [],
      "collapsed_sections": [],
      "authorship_tag": "ABX9TyPXNpt5xNTX5IoHYQaRuGvP",
      "include_colab_link": true
    },
    "kernelspec": {
      "name": "python3",
      "display_name": "Python 3"
    },
    "language_info": {
      "name": "python"
    }
  },
  "cells": [
    {
      "cell_type": "markdown",
      "metadata": {
        "id": "view-in-github",
        "colab_type": "text"
      },
      "source": [
        "<a href=\"https://colab.research.google.com/github/imvishal09/Netflix_Stock_Price_Trend_Prediction/blob/main/Netflix_Stock_Price_Trend_Prediction.ipynb\" target=\"_parent\"><img src=\"https://colab.research.google.com/assets/colab-badge.svg\" alt=\"Open In Colab\"/></a>"
      ]
    },
    {
      "cell_type": "markdown",
      "source": [
        "Dataset source: https://www.kaggle.com/akpmpr/updated-netflix-stock-price-all-time"
      ],
      "metadata": {
        "id": "bdWZnKAliHnG"
      }
    },
    {
      "cell_type": "markdown",
      "source": [
        "# Import libraries "
      ],
      "metadata": {
        "id": "AR2OeO9ZGAE-"
      }
    },
    {
      "cell_type": "code",
      "execution_count": 57,
      "metadata": {
        "id": "YSkEh13xRSgw"
      },
      "outputs": [],
      "source": [
        "import numpy as np\n",
        "import pandas as pd\n",
        "from pandas_datareader import data\n",
        "import matplotlib.pyplot as plt\n",
        "from sklearn.preprocessing import MinMaxScaler\n",
        "import tensorflow as tf\n",
        "from tensorflow.keras import layers\n",
        "from tensorflow.keras.models import Sequential\n",
        "from tensorflow.keras.layers import Dense\n",
        "from tensorflow.keras.layers import LSTM"
      ]
    },
    {
      "cell_type": "markdown",
      "source": [
        "# Upload the csv file from local drive"
      ],
      "metadata": {
        "id": "YIYcerN_IBEr"
      }
    },
    {
      "cell_type": "code",
      "source": [
        "from google.colab import files\n",
        "data_load = files.upload()"
      ],
      "metadata": {
        "colab": {
          "resources": {
            "http://localhost:8080/nbextensions/google.colab/files.js": {
              "data": "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",
              "ok": true,
              "headers": [
                [
                  "content-type",
                  "application/javascript"
                ]
              ],
              "status": 200,
              "status_text": ""
            }
          },
          "base_uri": "https://localhost:8080/",
          "height": 74
        },
        "id": "812CJ8ytScw-",
        "outputId": "b9d11b8e-cc1a-4306-b85e-90727ca6b4a0"
      },
      "execution_count": 58,
      "outputs": [
        {
          "output_type": "display_data",
          "data": {
            "text/html": [
              "\n",
              "     <input type=\"file\" id=\"files-7a8cb7a3-019e-4b8f-924d-92b9b412e00c\" name=\"files[]\" multiple disabled\n",
              "        style=\"border:none\" />\n",
              "     <output id=\"result-7a8cb7a3-019e-4b8f-924d-92b9b412e00c\">\n",
              "      Upload widget is only available when the cell has been executed in the\n",
              "      current browser session. Please rerun this cell to enable.\n",
              "      </output>\n",
              "      <script src=\"/nbextensions/google.colab/files.js\"></script> "
            ],
            "text/plain": [
              "<IPython.core.display.HTML object>"
            ]
          },
          "metadata": {}
        },
        {
          "output_type": "stream",
          "name": "stdout",
          "text": [
            "Saving netflix.csv to netflix (1).csv\n"
          ]
        }
      ]
    },
    {
      "cell_type": "markdown",
      "source": [
        "# Load the csv file"
      ],
      "metadata": {
        "id": "DdP29F7tINr6"
      }
    },
    {
      "cell_type": "code",
      "source": [
        "import io\n",
        "df = pd.read_csv(io.BytesIO(data_load['netflix.csv']))"
      ],
      "metadata": {
        "id": "-hm7hWH9Tuw7"
      },
      "execution_count": 59,
      "outputs": []
    },
    {
      "cell_type": "markdown",
      "source": [
        "# Exploring the Dataset"
      ],
      "metadata": {
        "id": "SiQFZBwOIYHO"
      }
    },
    {
      "cell_type": "code",
      "source": [
        "df.head(df.size)"
      ],
      "metadata": {
        "colab": {
          "base_uri": "https://localhost:8080/",
          "height": 423
        },
        "id": "nqIf855NWdAv",
        "outputId": "f188a097-8a17-4ce6-e6f1-a8edf25a1b23"
      },
      "execution_count": 60,
      "outputs": [
        {
          "output_type": "execute_result",
          "data": {
            "text/html": [
              "\n",
              "  <div id=\"df-43ecc284-f0d6-41fb-9574-d78aada8afed\">\n",
              "    <div class=\"colab-df-container\">\n",
              "      <div>\n",
              "<style scoped>\n",
              "    .dataframe tbody tr th:only-of-type {\n",
              "        vertical-align: middle;\n",
              "    }\n",
              "\n",
              "    .dataframe tbody tr th {\n",
              "        vertical-align: top;\n",
              "    }\n",
              "\n",
              "    .dataframe thead th {\n",
              "        text-align: right;\n",
              "    }\n",
              "</style>\n",
              "<table border=\"1\" class=\"dataframe\">\n",
              "  <thead>\n",
              "    <tr style=\"text-align: right;\">\n",
              "      <th></th>\n",
              "      <th>Date</th>\n",
              "      <th>High</th>\n",
              "      <th>Low</th>\n",
              "      <th>Open</th>\n",
              "      <th>Close</th>\n",
              "      <th>Volume</th>\n",
              "      <th>Adj Close</th>\n",
              "    </tr>\n",
              "  </thead>\n",
              "  <tbody>\n",
              "    <tr>\n",
              "      <th>0</th>\n",
              "      <td>2002-05-23</td>\n",
              "      <td>1.242857</td>\n",
              "      <td>1.145714</td>\n",
              "      <td>1.156429</td>\n",
              "      <td>1.196429</td>\n",
              "      <td>104790000.0</td>\n",
              "      <td>1.196429</td>\n",
              "    </tr>\n",
              "    <tr>\n",
              "      <th>1</th>\n",
              "      <td>2002-05-24</td>\n",
              "      <td>1.225000</td>\n",
              "      <td>1.197143</td>\n",
              "      <td>1.214286</td>\n",
              "      <td>1.210000</td>\n",
              "      <td>11104800.0</td>\n",
              "      <td>1.210000</td>\n",
              "    </tr>\n",
              "    <tr>\n",
              "      <th>2</th>\n",
              "      <td>2002-05-28</td>\n",
              "      <td>1.232143</td>\n",
              "      <td>1.157143</td>\n",
              "      <td>1.213571</td>\n",
              "      <td>1.157143</td>\n",
              "      <td>6609400.0</td>\n",
              "      <td>1.157143</td>\n",
              "    </tr>\n",
              "    <tr>\n",
              "      <th>3</th>\n",
              "      <td>2002-05-29</td>\n",
              "      <td>1.164286</td>\n",
              "      <td>1.085714</td>\n",
              "      <td>1.164286</td>\n",
              "      <td>1.103571</td>\n",
              "      <td>6757800.0</td>\n",
              "      <td>1.103571</td>\n",
              "    </tr>\n",
              "    <tr>\n",
              "      <th>4</th>\n",
              "      <td>2002-05-30</td>\n",
              "      <td>1.107857</td>\n",
              "      <td>1.071429</td>\n",
              "      <td>1.107857</td>\n",
              "      <td>1.071429</td>\n",
              "      <td>10154200.0</td>\n",
              "      <td>1.071429</td>\n",
              "    </tr>\n",
              "    <tr>\n",
              "      <th>...</th>\n",
              "      <td>...</td>\n",
              "      <td>...</td>\n",
              "      <td>...</td>\n",
              "      <td>...</td>\n",
              "      <td>...</td>\n",
              "      <td>...</td>\n",
              "      <td>...</td>\n",
              "    </tr>\n",
              "    <tr>\n",
              "      <th>4876</th>\n",
              "      <td>2021-10-05</td>\n",
              "      <td>640.390015</td>\n",
              "      <td>606.890015</td>\n",
              "      <td>606.940002</td>\n",
              "      <td>634.809998</td>\n",
              "      <td>9534300.0</td>\n",
              "      <td>634.809998</td>\n",
              "    </tr>\n",
              "    <tr>\n",
              "      <th>4877</th>\n",
              "      <td>2021-10-06</td>\n",
              "      <td>639.869995</td>\n",
              "      <td>626.359985</td>\n",
              "      <td>628.179993</td>\n",
              "      <td>639.099976</td>\n",
              "      <td>4580400.0</td>\n",
              "      <td>639.099976</td>\n",
              "    </tr>\n",
              "    <tr>\n",
              "      <th>4878</th>\n",
              "      <td>2021-10-07</td>\n",
              "      <td>646.840027</td>\n",
              "      <td>630.450012</td>\n",
              "      <td>642.229980</td>\n",
              "      <td>631.849976</td>\n",
              "      <td>3556900.0</td>\n",
              "      <td>631.849976</td>\n",
              "    </tr>\n",
              "    <tr>\n",
              "      <th>4879</th>\n",
              "      <td>2021-10-08</td>\n",
              "      <td>643.799988</td>\n",
              "      <td>630.859985</td>\n",
              "      <td>634.169983</td>\n",
              "      <td>632.659973</td>\n",
              "      <td>3271100.0</td>\n",
              "      <td>632.659973</td>\n",
              "    </tr>\n",
              "    <tr>\n",
              "      <th>4880</th>\n",
              "      <td>2021-10-11</td>\n",
              "      <td>639.419983</td>\n",
              "      <td>626.780029</td>\n",
              "      <td>633.200012</td>\n",
              "      <td>627.039978</td>\n",
              "      <td>2861200.0</td>\n",
              "      <td>627.039978</td>\n",
              "    </tr>\n",
              "  </tbody>\n",
              "</table>\n",
              "<p>4881 rows × 7 columns</p>\n",
              "</div>\n",
              "      <button class=\"colab-df-convert\" onclick=\"convertToInteractive('df-43ecc284-f0d6-41fb-9574-d78aada8afed')\"\n",
              "              title=\"Convert this dataframe to an interactive table.\"\n",
              "              style=\"display:none;\">\n",
              "        \n",
              "  <svg xmlns=\"http://www.w3.org/2000/svg\" height=\"24px\"viewBox=\"0 0 24 24\"\n",
              "       width=\"24px\">\n",
              "    <path d=\"M0 0h24v24H0V0z\" fill=\"none\"/>\n",
              "    <path d=\"M18.56 5.44l.94 2.06.94-2.06 2.06-.94-2.06-.94-.94-2.06-.94 2.06-2.06.94zm-11 1L8.5 8.5l.94-2.06 2.06-.94-2.06-.94L8.5 2.5l-.94 2.06-2.06.94zm10 10l.94 2.06.94-2.06 2.06-.94-2.06-.94-.94-2.06-.94 2.06-2.06.94z\"/><path d=\"M17.41 7.96l-1.37-1.37c-.4-.4-.92-.59-1.43-.59-.52 0-1.04.2-1.43.59L10.3 9.45l-7.72 7.72c-.78.78-.78 2.05 0 2.83L4 21.41c.39.39.9.59 1.41.59.51 0 1.02-.2 1.41-.59l7.78-7.78 2.81-2.81c.8-.78.8-2.07 0-2.86zM5.41 20L4 18.59l7.72-7.72 1.47 1.35L5.41 20z\"/>\n",
              "  </svg>\n",
              "      </button>\n",
              "      \n",
              "  <style>\n",
              "    .colab-df-container {\n",
              "      display:flex;\n",
              "      flex-wrap:wrap;\n",
              "      gap: 12px;\n",
              "    }\n",
              "\n",
              "    .colab-df-convert {\n",
              "      background-color: #E8F0FE;\n",
              "      border: none;\n",
              "      border-radius: 50%;\n",
              "      cursor: pointer;\n",
              "      display: none;\n",
              "      fill: #1967D2;\n",
              "      height: 32px;\n",
              "      padding: 0 0 0 0;\n",
              "      width: 32px;\n",
              "    }\n",
              "\n",
              "    .colab-df-convert:hover {\n",
              "      background-color: #E2EBFA;\n",
              "      box-shadow: 0px 1px 2px rgba(60, 64, 67, 0.3), 0px 1px 3px 1px rgba(60, 64, 67, 0.15);\n",
              "      fill: #174EA6;\n",
              "    }\n",
              "\n",
              "    [theme=dark] .colab-df-convert {\n",
              "      background-color: #3B4455;\n",
              "      fill: #D2E3FC;\n",
              "    }\n",
              "\n",
              "    [theme=dark] .colab-df-convert:hover {\n",
              "      background-color: #434B5C;\n",
              "      box-shadow: 0px 1px 3px 1px rgba(0, 0, 0, 0.15);\n",
              "      filter: drop-shadow(0px 1px 2px rgba(0, 0, 0, 0.3));\n",
              "      fill: #FFFFFF;\n",
              "    }\n",
              "  </style>\n",
              "\n",
              "      <script>\n",
              "        const buttonEl =\n",
              "          document.querySelector('#df-43ecc284-f0d6-41fb-9574-d78aada8afed button.colab-df-convert');\n",
              "        buttonEl.style.display =\n",
              "          google.colab.kernel.accessAllowed ? 'block' : 'none';\n",
              "\n",
              "        async function convertToInteractive(key) {\n",
              "          const element = document.querySelector('#df-43ecc284-f0d6-41fb-9574-d78aada8afed');\n",
              "          const dataTable =\n",
              "            await google.colab.kernel.invokeFunction('convertToInteractive',\n",
              "                                                     [key], {});\n",
              "          if (!dataTable) return;\n",
              "\n",
              "          const docLinkHtml = 'Like what you see? Visit the ' +\n",
              "            '<a target=\"_blank\" href=https://colab.research.google.com/notebooks/data_table.ipynb>data table notebook</a>'\n",
              "            + ' to learn more about interactive tables.';\n",
              "          element.innerHTML = '';\n",
              "          dataTable['output_type'] = 'display_data';\n",
              "          await google.colab.output.renderOutput(dataTable, element);\n",
              "          const docLink = document.createElement('div');\n",
              "          docLink.innerHTML = docLinkHtml;\n",
              "          element.appendChild(docLink);\n",
              "        }\n",
              "      </script>\n",
              "    </div>\n",
              "  </div>\n",
              "  "
            ],
            "text/plain": [
              "            Date        High         Low  ...       Close       Volume   Adj Close\n",
              "0     2002-05-23    1.242857    1.145714  ...    1.196429  104790000.0    1.196429\n",
              "1     2002-05-24    1.225000    1.197143  ...    1.210000   11104800.0    1.210000\n",
              "2     2002-05-28    1.232143    1.157143  ...    1.157143    6609400.0    1.157143\n",
              "3     2002-05-29    1.164286    1.085714  ...    1.103571    6757800.0    1.103571\n",
              "4     2002-05-30    1.107857    1.071429  ...    1.071429   10154200.0    1.071429\n",
              "...          ...         ...         ...  ...         ...          ...         ...\n",
              "4876  2021-10-05  640.390015  606.890015  ...  634.809998    9534300.0  634.809998\n",
              "4877  2021-10-06  639.869995  626.359985  ...  639.099976    4580400.0  639.099976\n",
              "4878  2021-10-07  646.840027  630.450012  ...  631.849976    3556900.0  631.849976\n",
              "4879  2021-10-08  643.799988  630.859985  ...  632.659973    3271100.0  632.659973\n",
              "4880  2021-10-11  639.419983  626.780029  ...  627.039978    2861200.0  627.039978\n",
              "\n",
              "[4881 rows x 7 columns]"
            ]
          },
          "metadata": {},
          "execution_count": 60
        }
      ]
    },
    {
      "cell_type": "code",
      "source": [
        "df.index = df['Date']"
      ],
      "metadata": {
        "id": "UCE7Rk8SQ2Hl"
      },
      "execution_count": 61,
      "outputs": []
    },
    {
      "cell_type": "code",
      "source": [
        "df.dtypes"
      ],
      "metadata": {
        "colab": {
          "base_uri": "https://localhost:8080/"
        },
        "id": "jeeChAiNU02i",
        "outputId": "e6fb3f95-588a-42c5-cfcb-9db79637e09b"
      },
      "execution_count": 65,
      "outputs": [
        {
          "output_type": "execute_result",
          "data": {
            "text/plain": [
              "Date          object\n",
              "High         float64\n",
              "Low          float64\n",
              "Open         float64\n",
              "Close        float64\n",
              "Volume       float64\n",
              "Adj Close    float64\n",
              "dtype: object"
            ]
          },
          "metadata": {},
          "execution_count": 65
        }
      ]
    },
    {
      "cell_type": "code",
      "source": [
        "df.describe()"
      ],
      "metadata": {
        "colab": {
          "base_uri": "https://localhost:8080/",
          "height": 300
        },
        "id": "bPkTrCQDUvNj",
        "outputId": "18d1be86-c501-4f30-f600-69593b83059b"
      },
      "execution_count": 66,
      "outputs": [
        {
          "output_type": "execute_result",
          "data": {
            "text/html": [
              "\n",
              "  <div id=\"df-aa86e49a-351f-4bc2-90c6-1b5cc20c984b\">\n",
              "    <div class=\"colab-df-container\">\n",
              "      <div>\n",
              "<style scoped>\n",
              "    .dataframe tbody tr th:only-of-type {\n",
              "        vertical-align: middle;\n",
              "    }\n",
              "\n",
              "    .dataframe tbody tr th {\n",
              "        vertical-align: top;\n",
              "    }\n",
              "\n",
              "    .dataframe thead th {\n",
              "        text-align: right;\n",
              "    }\n",
              "</style>\n",
              "<table border=\"1\" class=\"dataframe\">\n",
              "  <thead>\n",
              "    <tr style=\"text-align: right;\">\n",
              "      <th></th>\n",
              "      <th>High</th>\n",
              "      <th>Low</th>\n",
              "      <th>Open</th>\n",
              "      <th>Close</th>\n",
              "      <th>Volume</th>\n",
              "      <th>Adj Close</th>\n",
              "    </tr>\n",
              "  </thead>\n",
              "  <tbody>\n",
              "    <tr>\n",
              "      <th>count</th>\n",
              "      <td>4881.000000</td>\n",
              "      <td>4881.000000</td>\n",
              "      <td>4881.000000</td>\n",
              "      <td>4881.000000</td>\n",
              "      <td>4.881000e+03</td>\n",
              "      <td>4881.000000</td>\n",
              "    </tr>\n",
              "    <tr>\n",
              "      <th>mean</th>\n",
              "      <td>107.003361</td>\n",
              "      <td>103.742674</td>\n",
              "      <td>105.388477</td>\n",
              "      <td>105.434149</td>\n",
              "      <td>1.679949e+07</td>\n",
              "      <td>105.434149</td>\n",
              "    </tr>\n",
              "    <tr>\n",
              "      <th>std</th>\n",
              "      <td>159.326383</td>\n",
              "      <td>154.662309</td>\n",
              "      <td>157.007060</td>\n",
              "      <td>157.073188</td>\n",
              "      <td>1.936794e+07</td>\n",
              "      <td>157.073188</td>\n",
              "    </tr>\n",
              "    <tr>\n",
              "      <th>min</th>\n",
              "      <td>0.410714</td>\n",
              "      <td>0.346429</td>\n",
              "      <td>0.377857</td>\n",
              "      <td>0.372857</td>\n",
              "      <td>2.856000e+05</td>\n",
              "      <td>0.372857</td>\n",
              "    </tr>\n",
              "    <tr>\n",
              "      <th>25%</th>\n",
              "      <td>3.977143</td>\n",
              "      <td>3.838571</td>\n",
              "      <td>3.901429</td>\n",
              "      <td>3.906429</td>\n",
              "      <td>6.286300e+06</td>\n",
              "      <td>3.906429</td>\n",
              "    </tr>\n",
              "    <tr>\n",
              "      <th>50%</th>\n",
              "      <td>22.261429</td>\n",
              "      <td>21.150000</td>\n",
              "      <td>21.524286</td>\n",
              "      <td>21.632856</td>\n",
              "      <td>1.082310e+07</td>\n",
              "      <td>21.632856</td>\n",
              "    </tr>\n",
              "    <tr>\n",
              "      <th>75%</th>\n",
              "      <td>127.430000</td>\n",
              "      <td>123.589996</td>\n",
              "      <td>125.949997</td>\n",
              "      <td>125.389999</td>\n",
              "      <td>2.015640e+07</td>\n",
              "      <td>125.389999</td>\n",
              "    </tr>\n",
              "    <tr>\n",
              "      <th>max</th>\n",
              "      <td>646.840027</td>\n",
              "      <td>630.859985</td>\n",
              "      <td>642.229980</td>\n",
              "      <td>639.099976</td>\n",
              "      <td>3.234140e+08</td>\n",
              "      <td>639.099976</td>\n",
              "    </tr>\n",
              "  </tbody>\n",
              "</table>\n",
              "</div>\n",
              "      <button class=\"colab-df-convert\" onclick=\"convertToInteractive('df-aa86e49a-351f-4bc2-90c6-1b5cc20c984b')\"\n",
              "              title=\"Convert this dataframe to an interactive table.\"\n",
              "              style=\"display:none;\">\n",
              "        \n",
              "  <svg xmlns=\"http://www.w3.org/2000/svg\" height=\"24px\"viewBox=\"0 0 24 24\"\n",
              "       width=\"24px\">\n",
              "    <path d=\"M0 0h24v24H0V0z\" fill=\"none\"/>\n",
              "    <path d=\"M18.56 5.44l.94 2.06.94-2.06 2.06-.94-2.06-.94-.94-2.06-.94 2.06-2.06.94zm-11 1L8.5 8.5l.94-2.06 2.06-.94-2.06-.94L8.5 2.5l-.94 2.06-2.06.94zm10 10l.94 2.06.94-2.06 2.06-.94-2.06-.94-.94-2.06-.94 2.06-2.06.94z\"/><path d=\"M17.41 7.96l-1.37-1.37c-.4-.4-.92-.59-1.43-.59-.52 0-1.04.2-1.43.59L10.3 9.45l-7.72 7.72c-.78.78-.78 2.05 0 2.83L4 21.41c.39.39.9.59 1.41.59.51 0 1.02-.2 1.41-.59l7.78-7.78 2.81-2.81c.8-.78.8-2.07 0-2.86zM5.41 20L4 18.59l7.72-7.72 1.47 1.35L5.41 20z\"/>\n",
              "  </svg>\n",
              "      </button>\n",
              "      \n",
              "  <style>\n",
              "    .colab-df-container {\n",
              "      display:flex;\n",
              "      flex-wrap:wrap;\n",
              "      gap: 12px;\n",
              "    }\n",
              "\n",
              "    .colab-df-convert {\n",
              "      background-color: #E8F0FE;\n",
              "      border: none;\n",
              "      border-radius: 50%;\n",
              "      cursor: pointer;\n",
              "      display: none;\n",
              "      fill: #1967D2;\n",
              "      height: 32px;\n",
              "      padding: 0 0 0 0;\n",
              "      width: 32px;\n",
              "    }\n",
              "\n",
              "    .colab-df-convert:hover {\n",
              "      background-color: #E2EBFA;\n",
              "      box-shadow: 0px 1px 2px rgba(60, 64, 67, 0.3), 0px 1px 3px 1px rgba(60, 64, 67, 0.15);\n",
              "      fill: #174EA6;\n",
              "    }\n",
              "\n",
              "    [theme=dark] .colab-df-convert {\n",
              "      background-color: #3B4455;\n",
              "      fill: #D2E3FC;\n",
              "    }\n",
              "\n",
              "    [theme=dark] .colab-df-convert:hover {\n",
              "      background-color: #434B5C;\n",
              "      box-shadow: 0px 1px 3px 1px rgba(0, 0, 0, 0.15);\n",
              "      filter: drop-shadow(0px 1px 2px rgba(0, 0, 0, 0.3));\n",
              "      fill: #FFFFFF;\n",
              "    }\n",
              "  </style>\n",
              "\n",
              "      <script>\n",
              "        const buttonEl =\n",
              "          document.querySelector('#df-aa86e49a-351f-4bc2-90c6-1b5cc20c984b button.colab-df-convert');\n",
              "        buttonEl.style.display =\n",
              "          google.colab.kernel.accessAllowed ? 'block' : 'none';\n",
              "\n",
              "        async function convertToInteractive(key) {\n",
              "          const element = document.querySelector('#df-aa86e49a-351f-4bc2-90c6-1b5cc20c984b');\n",
              "          const dataTable =\n",
              "            await google.colab.kernel.invokeFunction('convertToInteractive',\n",
              "                                                     [key], {});\n",
              "          if (!dataTable) return;\n",
              "\n",
              "          const docLinkHtml = 'Like what you see? Visit the ' +\n",
              "            '<a target=\"_blank\" href=https://colab.research.google.com/notebooks/data_table.ipynb>data table notebook</a>'\n",
              "            + ' to learn more about interactive tables.';\n",
              "          element.innerHTML = '';\n",
              "          dataTable['output_type'] = 'display_data';\n",
              "          await google.colab.output.renderOutput(dataTable, element);\n",
              "          const docLink = document.createElement('div');\n",
              "          docLink.innerHTML = docLinkHtml;\n",
              "          element.appendChild(docLink);\n",
              "        }\n",
              "      </script>\n",
              "    </div>\n",
              "  </div>\n",
              "  "
            ],
            "text/plain": [
              "              High          Low  ...        Volume    Adj Close\n",
              "count  4881.000000  4881.000000  ...  4.881000e+03  4881.000000\n",
              "mean    107.003361   103.742674  ...  1.679949e+07   105.434149\n",
              "std     159.326383   154.662309  ...  1.936794e+07   157.073188\n",
              "min       0.410714     0.346429  ...  2.856000e+05     0.372857\n",
              "25%       3.977143     3.838571  ...  6.286300e+06     3.906429\n",
              "50%      22.261429    21.150000  ...  1.082310e+07    21.632856\n",
              "75%     127.430000   123.589996  ...  2.015640e+07   125.389999\n",
              "max     646.840027   630.859985  ...  3.234140e+08   639.099976\n",
              "\n",
              "[8 rows x 6 columns]"
            ]
          },
          "metadata": {},
          "execution_count": 66
        }
      ]
    },
    {
      "cell_type": "markdown",
      "source": [
        "we can see 105.4 as the average price closing price and maximum closing price is 639"
      ],
      "metadata": {
        "id": "iFTQldlDY4Pi"
      }
    },
    {
      "cell_type": "markdown",
      "source": [
        "intiating index as date to plot the price chart"
      ],
      "metadata": {
        "id": "dxoyn48lZW7n"
      }
    },
    {
      "cell_type": "code",
      "source": [
        "df.index = df['Date']"
      ],
      "metadata": {
        "id": "d4Ledx-PYDWH"
      },
      "execution_count": 67,
      "outputs": []
    },
    {
      "cell_type": "markdown",
      "source": [
        "# Price Chart of Netflix Stock Over The Years"
      ],
      "metadata": {
        "id": "NF5ETOs5Isu-"
      }
    },
    {
      "cell_type": "code",
      "source": [
        "df['Adj Close'].plot(figsize = (14,8))\n",
        "plt.xlabel('Date')\n",
        "plt.ylabel('Price')\n",
        "plt.title('Netflix Stock Price Over The Years')\n",
        "plt.show()"
      ],
      "metadata": {
        "colab": {
          "base_uri": "https://localhost:8080/",
          "height": 513
        },
        "id": "rgqAfwQrW3lc",
        "outputId": "de69ed68-6081-4f60-b41d-af66f278b4a7"
      },
      "execution_count": 68,
      "outputs": [
        {
          "output_type": "display_data",
          "data": {
            "image/png": "[encoded data removed]",
            "text/plain": [
              "<Figure size 1008x576 with 1 Axes>"
            ]
          },
          "metadata": {
            "needs_background": "light"
          }
        }
      ]
    },
    {
      "cell_type": "markdown",
      "source": [
        "# Data Preprocessing\n",
        "\n",
        "creating a data structure with 90 time steps and 1 output and the output to be close to stock price\n",
        "\n",
        "\n",
        "\n"
      ],
      "metadata": {
        "id": "90pKb6oea2Xg"
      }
    },
    {
      "cell_type": "code",
      "source": [
        "length = 90\n",
        "list1 = []\n",
        "list2 = []\n",
        "adj_close = df['Adj Close']\n",
        "\n",
        "for i in range(len(adj_close) - length):\n",
        "  x = adj_close[i:i+length]\n",
        "  y = adj_close[i+length]\n",
        "  list1.append(x)\n",
        "  list2.append(y)"
      ],
      "metadata": {
        "id": "2p-fR_6Xampx"
      },
      "execution_count": 69,
      "outputs": []
    },
    {
      "cell_type": "markdown",
      "source": [
        "convert the lists into numpy arrays and reshape them into 2D arrays"
      ],
      "metadata": {
        "id": "UizY2uaNXEeg"
      }
    },
    {
      "cell_type": "code",
      "source": [
        "list1 = np.array(list1)\n",
        "list2 = np.array(list2)\n",
        "list2 = list2.reshape(-1,1)\n",
        "\n",
        "list1, list2"
      ],
      "metadata": {
        "colab": {
          "base_uri": "https://localhost:8080/"
        },
        "id": "y9UPvpgFb4uz",
        "outputId": "3e2d4de0-d628-4deb-e403-7944ba23fd42"
      },
      "execution_count": 70,
      "outputs": [
        {
          "output_type": "execute_result",
          "data": {
            "text/plain": [
              "(array([[1.19642901e+00, 1.21000004e+00, 1.15714300e+00, ...,\n",
              "         7.82857001e-01, 7.20000029e-01, 6.92857027e-01],\n",
              "        [1.21000004e+00, 1.15714300e+00, 1.10357106e+00, ...,\n",
              "         7.20000029e-01, 6.92857027e-01, 6.78570986e-01],\n",
              "        [1.15714300e+00, 1.10357106e+00, 1.07142901e+00, ...,\n",
              "         6.92857027e-01, 6.78570986e-01, 5.78571022e-01],\n",
              "        ...,\n",
              "        [4.99079987e+02, 4.99239990e+02, 4.89429993e+02, ...,\n",
              "         6.03349976e+02, 6.34809998e+02, 6.39099976e+02],\n",
              "        [4.99239990e+02, 4.89429993e+02, 4.94739990e+02, ...,\n",
              "         6.34809998e+02, 6.39099976e+02, 6.31849976e+02],\n",
              "        [4.89429993e+02, 4.94739990e+02, 4.94660004e+02, ...,\n",
              "         6.39099976e+02, 6.31849976e+02, 6.32659973e+02]]),\n",
              " array([[6.78570986e-01],\n",
              "        [5.78571022e-01],\n",
              "        [5.17857015e-01],\n",
              "        ...,\n",
              "        [6.31849976e+02],\n",
              "        [6.32659973e+02],\n",
              "        [6.27039978e+02]]))"
            ]
          },
          "metadata": {},
          "execution_count": 70
        }
      ]
    },
    {
      "cell_type": "markdown",
      "source": [
        "taking 4000 as data points to train the model"
      ],
      "metadata": {
        "id": "db5KUzSYUQTS"
      }
    },
    {
      "cell_type": "code",
      "source": [
        "#train\n",
        "x_train = list1[:4000]\n",
        "y_train = list2[:4000]\n",
        "\n",
        "#test\n",
        "x_test = list1[4000:]\n",
        "y_test = list2[4000:]"
      ],
      "metadata": {
        "id": "CEhM3oV2c4dh"
      },
      "execution_count": 71,
      "outputs": []
    },
    {
      "cell_type": "markdown",
      "source": [
        "using MinMaxScaler as object to normalize the values into a range of 0,1 for the model"
      ],
      "metadata": {
        "id": "Ho3D4ZG2VRSe"
      }
    },
    {
      "cell_type": "code",
      "source": [
        "scaler = MinMaxScaler()\n",
        "\n",
        "#training set\n",
        "x_train_scaled = scaler.fit_transform(x_train)\n",
        "x_test_scaled = scaler.transform(x_test)\n",
        "\n",
        "#testing set\n",
        "y_train_scaled = scaler.fit_transform(y_train)\n",
        "y_test_scaled = scaler.transform(y_test)"
      ],
      "metadata": {
        "id": "UtL4enbcfJ_L"
      },
      "execution_count": 72,
      "outputs": []
    },
    {
      "cell_type": "markdown",
      "source": [
        "Convert inputs to 3d arrays because LSTM only accept 3d arrays as input to the model"
      ],
      "metadata": {
        "id": "ZO_Rk_XMUVZO"
      }
    },
    {
      "cell_type": "code",
      "source": [
        "x_train_scaled = x_train_scaled.reshape((len(x_train_scaled), length, 1))\n",
        "x_test_scaled = x_test_scaled.reshape((len(x_test_scaled), length, 1))"
      ],
      "metadata": {
        "id": "C-4WNWJdrE7N"
      },
      "execution_count": 73,
      "outputs": []
    },
    {
      "cell_type": "markdown",
      "source": [
        "# Model "
      ],
      "metadata": {
        "id": "D_VBL-6crUWb"
      }
    },
    {
      "cell_type": "markdown",
      "source": [
        "Using 3 LSTM layers and 1 dense layer in our model \n"
      ],
      "metadata": {
        "id": "HfY9ME3KKzUh"
      }
    },
    {
      "cell_type": "code",
      "source": [
        "model=Sequential()\n",
        "model.add(LSTM(units= 64, return_sequences=True, input_shape=(90,1), dropout=0.2))\n",
        "model.add(LSTM(units= 64, return_sequences=True, dropout=0.2))\n",
        "model.add(LSTM(units= 32, dropout=0.2))\n",
        "model.add(Dense(units = 1)) \n",
        "model.summary()"
      ],
      "metadata": {
        "colab": {
          "base_uri": "https://localhost:8080/"
        },
        "id": "qkimb3ec2Nyd",
        "outputId": "77711bfc-655b-412f-daa5-2b1bfda5b115"
      },
      "execution_count": 74,
      "outputs": [
        {
          "output_type": "stream",
          "name": "stdout",
          "text": [
            "Model: \"sequential_6\"\n",
            "_________________________________________________________________\n",
            " Layer (type)                Output Shape              Param #   \n",
            "=================================================================\n",
            " lstm_18 (LSTM)              (None, 90, 64)            16896     \n",
            "                                                                 \n",
            " lstm_19 (LSTM)              (None, 90, 64)            33024     \n",
            "                                                                 \n",
            " lstm_20 (LSTM)              (None, 32)                12416     \n",
            "                                                                 \n",
            " dense_6 (Dense)             (None, 1)                 33        \n",
            "                                                                 \n",
            "=================================================================\n",
            "Total params: 62,369\n",
            "Trainable params: 62,369\n",
            "Non-trainable params: 0\n",
            "_________________________________________________________________\n"
          ]
        }
      ]
    },
    {
      "cell_type": "markdown",
      "source": [
        "# Compiling\n",
        "compile the model by specifying a loss function and with a optimizer"
      ],
      "metadata": {
        "id": "SG7W5qNVsLHn"
      }
    },
    {
      "cell_type": "code",
      "source": [
        "model.compile(loss='mean_squared_error', optimizer='adam')"
      ],
      "metadata": {
        "id": "DaNS6_pcsC9a"
      },
      "execution_count": 75,
      "outputs": []
    },
    {
      "cell_type": "markdown",
      "source": [
        "# Training\n",
        "training the model for 100 epochs with batch size of 64\n"
      ],
      "metadata": {
        "id": "zTj5Ivo9sQI2"
      }
    },
    {
      "cell_type": "code",
      "source": [
        "model.fit(x_train_scaled, y_train_scaled, epochs=100, batch_size=64)"
      ],
      "metadata": {
        "colab": {
          "base_uri": "https://localhost:8080/"
        },
        "id": "WYxWodOrsk9s",
        "outputId": "7d7909fc-e62c-4240-ee29-0bbbd95cf9d0"
      },
      "execution_count": 76,
      "outputs": [
        {
          "output_type": "stream",
          "name": "stdout",
          "text": [
            "Epoch 1/100\n",
            "63/63 [==============================] - 23s 189ms/step - loss: 0.0032\n",
            "Epoch 2/100\n",
            "63/63 [==============================] - 10s 162ms/step - loss: 8.3085e-04\n",
            "Epoch 3/100\n",
            "63/63 [==============================] - 10s 162ms/step - loss: 7.8029e-04\n",
            "Epoch 4/100\n",
            "63/63 [==============================] - 10s 162ms/step - loss: 7.1742e-04\n",
            "Epoch 5/100\n",
            "63/63 [==============================] - 10s 162ms/step - loss: 6.5518e-04\n",
            "Epoch 6/100\n",
            "63/63 [==============================] - 10s 162ms/step - loss: 6.3468e-04\n",
            "Epoch 7/100\n",
            "63/63 [==============================] - 10s 162ms/step - loss: 6.4387e-04\n",
            "Epoch 8/100\n",
            "63/63 [==============================] - 10s 161ms/step - loss: 7.4542e-04\n",
            "Epoch 9/100\n",
            "63/63 [==============================] - 10s 161ms/step - loss: 6.1806e-04\n",
            "Epoch 10/100\n",
            "63/63 [==============================] - 10s 161ms/step - loss: 5.5271e-04\n",
            "Epoch 11/100\n",
            "63/63 [==============================] - 11s 177ms/step - loss: 5.9711e-04\n",
            "Epoch 12/100\n",
            "63/63 [==============================] - 10s 161ms/step - loss: 6.5878e-04\n",
            "Epoch 13/100\n",
            "63/63 [==============================] - 10s 161ms/step - loss: 5.5190e-04\n",
            "Epoch 14/100\n",
            "63/63 [==============================] - 10s 162ms/step - loss: 6.2249e-04\n",
            "Epoch 15/100\n",
            "63/63 [==============================] - 10s 161ms/step - loss: 5.6169e-04\n",
            "Epoch 16/100\n",
            "63/63 [==============================] - 11s 176ms/step - loss: 5.1843e-04\n",
            "Epoch 17/100\n",
            "63/63 [==============================] - 10s 161ms/step - loss: 4.9527e-04\n",
            "Epoch 18/100\n",
            "63/63 [==============================] - 10s 161ms/step - loss: 5.4986e-04\n",
            "Epoch 19/100\n",
            "63/63 [==============================] - 10s 162ms/step - loss: 5.8889e-04\n",
            "Epoch 20/100\n",
            "63/63 [==============================] - 10s 161ms/step - loss: 5.6071e-04\n",
            "Epoch 21/100\n",
            "63/63 [==============================] - 10s 160ms/step - loss: 5.3375e-04\n",
            "Epoch 22/100\n",
            "63/63 [==============================] - 10s 162ms/step - loss: 4.5208e-04\n",
            "Epoch 23/100\n",
            "63/63 [==============================] - 10s 161ms/step - loss: 5.7101e-04\n",
            "Epoch 24/100\n",
            "63/63 [==============================] - 10s 161ms/step - loss: 5.6951e-04\n",
            "Epoch 25/100\n",
            "63/63 [==============================] - 10s 162ms/step - loss: 4.5352e-04\n",
            "Epoch 26/100\n",
            "63/63 [==============================] - 10s 162ms/step - loss: 6.1624e-04\n",
            "Epoch 27/100\n",
            "63/63 [==============================] - 10s 162ms/step - loss: 5.3689e-04\n",
            "Epoch 28/100\n",
            "63/63 [==============================] - 10s 161ms/step - loss: 5.2362e-04\n",
            "Epoch 29/100\n",
            "63/63 [==============================] - 10s 161ms/step - loss: 5.1558e-04\n",
            "Epoch 30/100\n",
            "63/63 [==============================] - 10s 161ms/step - loss: 5.7782e-04\n",
            "Epoch 31/100\n",
            "63/63 [==============================] - 10s 161ms/step - loss: 5.2802e-04\n",
            "Epoch 32/100\n",
            "63/63 [==============================] - 10s 162ms/step - loss: 4.4613e-04\n",
            "Epoch 33/100\n",
            "63/63 [==============================] - 10s 161ms/step - loss: 5.0553e-04\n",
            "Epoch 34/100\n",
            "63/63 [==============================] - 10s 161ms/step - loss: 4.4861e-04\n",
            "Epoch 35/100\n",
            "63/63 [==============================] - 10s 161ms/step - loss: 4.5003e-04\n",
            "Epoch 36/100\n",
            "63/63 [==============================] - 10s 161ms/step - loss: 4.3094e-04\n",
            "Epoch 37/100\n",
            "63/63 [==============================] - 10s 162ms/step - loss: 4.2127e-04\n",
            "Epoch 38/100\n",
            "63/63 [==============================] - 10s 161ms/step - loss: 4.4103e-04\n",
            "Epoch 39/100\n",
            "63/63 [==============================] - 10s 161ms/step - loss: 4.5163e-04\n",
            "Epoch 40/100\n",
            "63/63 [==============================] - 10s 161ms/step - loss: 4.0710e-04\n",
            "Epoch 41/100\n",
            "63/63 [==============================] - 10s 161ms/step - loss: 4.2270e-04\n",
            "Epoch 42/100\n",
            "63/63 [==============================] - 10s 162ms/step - loss: 3.9908e-04\n",
            "Epoch 43/100\n",
            "63/63 [==============================] - 10s 162ms/step - loss: 3.5878e-04\n",
            "Epoch 44/100\n",
            "63/63 [==============================] - 10s 161ms/step - loss: 3.4104e-04\n",
            "Epoch 45/100\n",
            "63/63 [==============================] - 10s 160ms/step - loss: 3.3411e-04\n",
            "Epoch 46/100\n",
            "63/63 [==============================] - 10s 160ms/step - loss: 3.6233e-04\n",
            "Epoch 47/100\n",
            "63/63 [==============================] - 10s 160ms/step - loss: 3.5477e-04\n",
            "Epoch 48/100\n",
            "63/63 [==============================] - 10s 160ms/step - loss: 2.9133e-04\n",
            "Epoch 49/100\n",
            "63/63 [==============================] - 10s 161ms/step - loss: 3.3547e-04\n",
            "Epoch 50/100\n",
            "63/63 [==============================] - 10s 161ms/step - loss: 3.1222e-04\n",
            "Epoch 51/100\n",
            "63/63 [==============================] - 10s 161ms/step - loss: 3.1398e-04\n",
            "Epoch 52/100\n",
            "63/63 [==============================] - 10s 161ms/step - loss: 3.1000e-04\n",
            "Epoch 53/100\n",
            "63/63 [==============================] - 10s 161ms/step - loss: 2.5661e-04\n",
            "Epoch 54/100\n",
            "63/63 [==============================] - 10s 161ms/step - loss: 2.7369e-04\n",
            "Epoch 55/100\n",
            "63/63 [==============================] - 10s 161ms/step - loss: 2.6162e-04\n",
            "Epoch 56/100\n",
            "63/63 [==============================] - 10s 162ms/step - loss: 2.7642e-04\n",
            "Epoch 57/100\n",
            "63/63 [==============================] - 10s 162ms/step - loss: 3.3630e-04\n",
            "Epoch 58/100\n",
            "63/63 [==============================] - 10s 161ms/step - loss: 2.6145e-04\n",
            "Epoch 59/100\n",
            "63/63 [==============================] - 10s 161ms/step - loss: 2.8077e-04\n",
            "Epoch 60/100\n",
            "63/63 [==============================] - 10s 161ms/step - loss: 2.7258e-04\n",
            "Epoch 61/100\n",
            "63/63 [==============================] - 10s 161ms/step - loss: 2.3718e-04\n",
            "Epoch 62/100\n",
            "63/63 [==============================] - 10s 160ms/step - loss: 2.6150e-04\n",
            "Epoch 63/100\n",
            "63/63 [==============================] - 10s 161ms/step - loss: 2.4089e-04\n",
            "Epoch 64/100\n",
            "63/63 [==============================] - 10s 161ms/step - loss: 2.3285e-04\n",
            "Epoch 65/100\n",
            "63/63 [==============================] - 10s 161ms/step - loss: 2.3867e-04\n",
            "Epoch 66/100\n",
            "63/63 [==============================] - 10s 161ms/step - loss: 2.3610e-04\n",
            "Epoch 67/100\n",
            "63/63 [==============================] - 10s 161ms/step - loss: 2.2636e-04\n",
            "Epoch 68/100\n",
            "63/63 [==============================] - 10s 161ms/step - loss: 2.2510e-04\n",
            "Epoch 69/100\n",
            "63/63 [==============================] - 10s 161ms/step - loss: 2.2185e-04\n",
            "Epoch 70/100\n",
            "63/63 [==============================] - 10s 161ms/step - loss: 2.1889e-04\n",
            "Epoch 71/100\n",
            "63/63 [==============================] - 10s 161ms/step - loss: 2.1501e-04\n",
            "Epoch 72/100\n",
            "63/63 [==============================] - 10s 161ms/step - loss: 2.5035e-04\n",
            "Epoch 73/100\n",
            "63/63 [==============================] - 10s 162ms/step - loss: 2.1732e-04\n",
            "Epoch 74/100\n",
            "63/63 [==============================] - 10s 161ms/step - loss: 2.0886e-04\n",
            "Epoch 75/100\n",
            "63/63 [==============================] - 10s 162ms/step - loss: 2.1051e-04\n",
            "Epoch 76/100\n",
            "63/63 [==============================] - 10s 161ms/step - loss: 2.1672e-04\n",
            "Epoch 77/100\n",
            "63/63 [==============================] - 10s 160ms/step - loss: 1.8884e-04\n",
            "Epoch 78/100\n",
            "63/63 [==============================] - 10s 161ms/step - loss: 2.0148e-04\n",
            "Epoch 79/100\n",
            "63/63 [==============================] - 10s 160ms/step - loss: 1.9692e-04\n",
            "Epoch 80/100\n",
            "63/63 [==============================] - 10s 160ms/step - loss: 1.9273e-04\n",
            "Epoch 81/100\n",
            "63/63 [==============================] - 10s 161ms/step - loss: 2.1184e-04\n",
            "Epoch 82/100\n",
            "63/63 [==============================] - 10s 159ms/step - loss: 1.8394e-04\n",
            "Epoch 83/100\n",
            "63/63 [==============================] - 10s 160ms/step - loss: 1.9063e-04\n",
            "Epoch 84/100\n",
            "63/63 [==============================] - 10s 159ms/step - loss: 2.1233e-04\n",
            "Epoch 85/100\n",
            "63/63 [==============================] - 10s 160ms/step - loss: 1.8787e-04\n",
            "Epoch 86/100\n",
            "63/63 [==============================] - 10s 159ms/step - loss: 1.7811e-04\n",
            "Epoch 87/100\n",
            "63/63 [==============================] - 10s 160ms/step - loss: 1.9248e-04\n",
            "Epoch 88/100\n",
            "63/63 [==============================] - 10s 161ms/step - loss: 1.6765e-04\n",
            "Epoch 89/100\n",
            "63/63 [==============================] - 10s 160ms/step - loss: 1.6866e-04\n",
            "Epoch 90/100\n",
            "63/63 [==============================] - 10s 160ms/step - loss: 1.7569e-04\n",
            "Epoch 91/100\n",
            "63/63 [==============================] - 10s 160ms/step - loss: 1.6609e-04\n",
            "Epoch 92/100\n",
            "63/63 [==============================] - 10s 160ms/step - loss: 1.7287e-04\n",
            "Epoch 93/100\n",
            "63/63 [==============================] - 10s 160ms/step - loss: 1.7430e-04\n",
            "Epoch 94/100\n",
            "63/63 [==============================] - 10s 160ms/step - loss: 2.1454e-04\n",
            "Epoch 95/100\n",
            "63/63 [==============================] - 10s 159ms/step - loss: 1.8277e-04\n",
            "Epoch 96/100\n",
            "63/63 [==============================] - 10s 161ms/step - loss: 1.6621e-04\n",
            "Epoch 97/100\n",
            "63/63 [==============================] - 10s 160ms/step - loss: 1.7060e-04\n",
            "Epoch 98/100\n",
            "63/63 [==============================] - 10s 159ms/step - loss: 2.1494e-04\n",
            "Epoch 99/100\n",
            "63/63 [==============================] - 10s 161ms/step - loss: 1.6659e-04\n",
            "Epoch 100/100\n",
            "63/63 [==============================] - 10s 160ms/step - loss: 1.8054e-04\n"
          ]
        },
        {
          "output_type": "execute_result",
          "data": {
            "text/plain": [
              "<keras.callbacks.History at 0x7efe61b979d0>"
            ]
          },
          "metadata": {},
          "execution_count": 76
        }
      ]
    },
    {
      "cell_type": "markdown",
      "source": [
        "# Model Prediction"
      ],
      "metadata": {
        "id": "BXJOLo1xP0DN"
      }
    },
    {
      "cell_type": "markdown",
      "source": [
        "model is ready for prediction"
      ],
      "metadata": {
        "id": "HBQ4TPhRhG7m"
      }
    },
    {
      "cell_type": "code",
      "source": [
        "prediction_stock_price = model.predict(x_test_scaled)\n",
        "prediction_transformed = scaler.inverse_transform(prediction_stock_price)\n",
        "y_test_transformed = scaler.inverse_transform(y_test_scaled)"
      ],
      "metadata": {
        "id": "DoCClgwyt2no"
      },
      "execution_count": 77,
      "outputs": []
    },
    {
      "cell_type": "markdown",
      "source": [
        "# Visualizing the Stock Prediction"
      ],
      "metadata": {
        "id": "J8e7flPTQHCT"
      }
    },
    {
      "cell_type": "markdown",
      "source": [
        "plotting a stock chart prediction"
      ],
      "metadata": {
        "id": "fY4y_YO2hcXJ"
      }
    },
    {
      "cell_type": "code",
      "source": [
        "plt.figure(figsize=(14,8))\n",
        "plt.title('Netflix Stock Price Prediction')\n",
        "plt.plot(y_test_transformed, color='blue', label='Actual')\n",
        "plt.plot(prediction_transformed, color='red', label='Prediction')\n",
        "plt.legend()\n",
        "plt.show()"
      ],
      "metadata": {
        "colab": {
          "base_uri": "https://localhost:8080/",
          "height": 499
        },
        "id": "s4Cd7qtaFyHU",
        "outputId": "0f8f4703-5ec2-4ed8-c821-917bbcb13d76"
      },
      "execution_count": 78,
      "outputs": [
        {
          "output_type": "display_data",
          "data": {
            "image/png": "[encoded data removed]",
            "text/plain": [
              "<Figure size 864x576 with 1 Axes>"
            ]
          },
          "metadata": {
            "needs_background": "light"
          }
        }
      ]
    },
    {
      "cell_type": "markdown",
      "source": [
        "# Conclusions\n",
        "Here is the chart it is almost identical but not accurate, we can improve the model accurancy by using ideal configurations"
      ],
      "metadata": {
        "id": "MoD4HwzqTFhR"
      }
    }
  ]
}